{
 "cells": [
  {
   "cell_type": "markdown",
   "metadata": {
    "gradient": {
     "editing": false
    }
   },
   "source": [
    "# Disaster Tweet Classification (BERT) Model\n",
    "## Run several BERT models from TensorFlow Hub, compare results and save them\n",
    "\n",
    " - Load and Run BERT models from [TensorFlow hub](https://www.tensorflow.org/hub)\n",
    " - Save Trained models\n",
    " - Generate csv classification results"
   ]
  },
  {
   "cell_type": "code",
   "execution_count": null,
   "metadata": {
    "gradient": {}
   },
   "outputs": [],
   "source": [
    "#!pip install -q tensorflow-text"
   ]
  },
  {
   "cell_type": "code",
   "execution_count": null,
   "metadata": {
    "gradient": {}
   },
   "outputs": [],
   "source": [
    "#!pip install -q tf-models-official"
   ]
  },
  {
   "cell_type": "code",
   "execution_count": null,
   "metadata": {
    "gradient": {}
   },
   "outputs": [],
   "source": [
    "import bert_classifier as bc"
   ]
  },
  {
   "cell_type": "code",
   "execution_count": null,
   "metadata": {
    "gradient": {}
   },
   "outputs": [],
   "source": [
    "import matplotlib.pyplot as plt\n",
    "import tensorflow as tf\n",
    "import pandas as pd"
   ]
  },
  {
   "cell_type": "code",
   "execution_count": null,
   "metadata": {
    "gradient": {}
   },
   "outputs": [],
   "source": [
    "    def plot(hist):\n",
    "        \"\"\"\n",
    "        plot training and validation loss and accuracy for internal use\n",
    "        hist: History object returned from training\n",
    "        \"\"\"\n",
    "        history_dict = hist.history\n",
    "\n",
    "        acc = history_dict['binary_accuracy']\n",
    "        val_acc = history_dict['val_binary_accuracy']\n",
    "        loss = history_dict['loss']\n",
    "        val_loss = history_dict['val_loss']\n",
    "\n",
    "        epochs = range(1, len(acc) + 1)\n",
    "        fig = plt.figure(figsize=(10, 6))\n",
    "        fig.tight_layout()\n",
    "\n",
    "        plt.subplot(2, 1, 1)\n",
    "        # \"bo\" is for \"blue dot\"\n",
    "        plt.plot(epochs, loss, 'r', label='Training loss')\n",
    "        # b is for \"solid blue line\"\n",
    "        plt.plot(epochs, val_loss, 'b', label='Validation loss')\n",
    "        plt.title('Training and validation loss')\n",
    "        # plt.xlabel('Epochs')\n",
    "        plt.ylabel('Loss')\n",
    "        plt.legend()\n",
    "\n",
    "        plt.subplot(2, 1, 2)\n",
    "        plt.plot(epochs, acc, 'r', label='Training acc')\n",
    "        plt.plot(epochs, val_acc, 'b', label='Validation acc')\n",
    "        plt.title('Training and validation accuracy')\n",
    "        plt.xlabel('Epochs')\n",
    "        plt.ylabel('Accuracy')\n",
    "        plt.legend(loc='lower right')"
   ]
  },
  {
   "cell_type": "code",
   "execution_count": null,
   "metadata": {
    "gradient": {}
   },
   "outputs": [],
   "source": [
    "import csv\n",
    "\n",
    "# helper batch function yield every n(batch size) in the list l\n",
    "def batched(l, n):\n",
    "    for i in range(0, len(l), n):\n",
    "        yield l[i:i+n]\n",
    "        \n",
    "# helper function for kaggle submission\n",
    "def generate_submission(model, test_df, csv_file):\n",
    "    '''\n",
    "        model: trained model for prediction\n",
    "        test_df: pandas df containing test data\n",
    "        csv_file: name of the output file in below format\n",
    "        \n",
    "        id,target\n",
    "        0,0\n",
    "        2,0\n",
    "        3,1\n",
    "        9,0\n",
    "        11,0\n",
    "    '''\n",
    "    print(f'loading id, text data...')\n",
    "    ids = test_df.index.tolist()\n",
    "    texts = test_df.pop('text').tolist()\n",
    "    \n",
    "    rows = []\n",
    "    for i, t in zip(ids, texts):\n",
    "        rows.append((i,t))\n",
    "    \n",
    "    fields = ['id','target']\n",
    "    print(f'starting processing...')\n",
    "    total = len(ids)\n",
    "    batch_size=100\n",
    "    print_rows = []\n",
    "    with open(csv_file, 'w') as f:\n",
    "        write = csv.writer(f)\n",
    "        write.writerow(fields)\n",
    "        index=0\n",
    "        for batch in batched(rows, batch_size):\n",
    "            print(f'processing {index}-{index+batch_size} of {total}...')\n",
    "            ids = [x for x,_ in batch]\n",
    "            ts = [y for _,y in batch]\n",
    "            print(f'predicting on the batch...')\n",
    "            preds = model.predict(ts)\n",
    "            print(f'prediction complete...')\n",
    "            for ii,pp in zip(ids,preds):\n",
    "                print_rows.append([ii,pp])\n",
    "            index+=batch_size\n",
    "        print(f'creating output file:{csv_file}...')\n",
    "        write.writerows(print_rows)\n",
    "    \n",
    "    print('file created.')"
   ]
  },
  {
   "cell_type": "markdown",
   "metadata": {
    "gradient": {
     "editing": false
    }
   },
   "source": [
    "## 1. [BERT-Base, Uncased](https://tfhub.dev/tensorflow/bert_en_uncased_L-12_H-768_A-12/4): trained weights released by the original BERT authors"
   ]
  },
  {
   "cell_type": "code",
   "execution_count": null,
   "metadata": {
    "gradient": {}
   },
   "outputs": [],
   "source": [
    "model = bc.BertClassifierModel()"
   ]
  },
  {
   "cell_type": "code",
   "execution_count": null,
   "metadata": {
    "gradient": {}
   },
   "outputs": [
    {
     "name": "stdout",
     "output_type": "stream",
     "text": [
      "loading csv ../data/train.csv, index col = id\n",
      "splitting train/test. test size = 0.2\n"
     ]
    }
   ],
   "source": [
    "model.load_df('../data/train.csv', 'id', 'text', 'target')"
   ]
  },
  {
   "cell_type": "code",
   "execution_count": null,
   "metadata": {
    "gradient": {}
   },
   "outputs": [
    {
     "name": "stdout",
     "output_type": "stream",
     "text": [
      "Building model. preprocessor=https://tfhub.dev/tensorflow/bert_en_uncased_preprocess/3, encoder=https://tfhub.dev/tensorflow/bert_en_uncased_L-12_H-768_A-12/4\n",
      "Model build succeeded.\n"
     ]
    }
   ],
   "source": [
    "model.build_model(preprocess_handle=\"https://tfhub.dev/tensorflow/bert_en_uncased_preprocess/3\",\n",
    "                 encoder_handle=\"https://tfhub.dev/tensorflow/bert_en_uncased_L-12_H-768_A-12/4\")"
   ]
  },
  {
   "cell_type": "code",
   "execution_count": null,
   "metadata": {
    "gradient": {}
   },
   "outputs": [
    {
     "name": "stdout",
     "output_type": "stream",
     "text": [
      "Epoch 1/15\n",
      "191/191 [==============================] - 204s 994ms/step - loss: 0.0394 - binary_accuracy: 0.9851 - val_loss: 0.0455 - val_binary_accuracy: 0.9849\n",
      "Epoch 2/15\n",
      "191/191 [==============================] - 188s 986ms/step - loss: 0.0798 - binary_accuracy: 0.9758 - val_loss: 0.0384 - val_binary_accuracy: 0.9857\n",
      "Epoch 3/15\n",
      "191/191 [==============================] - 188s 987ms/step - loss: 0.0693 - binary_accuracy: 0.9751 - val_loss: 0.0364 - val_binary_accuracy: 0.9852\n",
      "Epoch 4/15\n",
      "191/191 [==============================] - 188s 986ms/step - loss: 0.0698 - binary_accuracy: 0.9780 - val_loss: 0.0374 - val_binary_accuracy: 0.9869\n",
      "Epoch 5/15\n",
      "191/191 [==============================] - 188s 987ms/step - loss: 0.0577 - binary_accuracy: 0.9809 - val_loss: 0.0274 - val_binary_accuracy: 0.9885\n",
      "Epoch 6/15\n",
      "191/191 [==============================] - 188s 986ms/step - loss: 0.0435 - binary_accuracy: 0.9855 - val_loss: 0.0217 - val_binary_accuracy: 0.9897\n",
      "Epoch 7/15\n",
      "191/191 [==============================] - 188s 986ms/step - loss: 0.0388 - binary_accuracy: 0.9856 - val_loss: 0.0187 - val_binary_accuracy: 0.9910\n",
      "Epoch 8/15\n",
      "191/191 [==============================] - 188s 987ms/step - loss: 0.0394 - binary_accuracy: 0.9873 - val_loss: 0.0136 - val_binary_accuracy: 0.9923\n",
      "Epoch 9/15\n",
      "191/191 [==============================] - 188s 985ms/step - loss: 0.0284 - binary_accuracy: 0.9884 - val_loss: 0.0110 - val_binary_accuracy: 0.9931\n",
      "Epoch 10/15\n",
      "191/191 [==============================] - 188s 986ms/step - loss: 0.0199 - binary_accuracy: 0.9917 - val_loss: 0.0093 - val_binary_accuracy: 0.9944\n",
      "Epoch 11/15\n",
      "191/191 [==============================] - 188s 986ms/step - loss: 0.0173 - binary_accuracy: 0.9930 - val_loss: 0.0073 - val_binary_accuracy: 0.9957\n",
      "Epoch 12/15\n",
      "191/191 [==============================] - 188s 985ms/step - loss: 0.0227 - binary_accuracy: 0.9911 - val_loss: 0.0063 - val_binary_accuracy: 0.9964\n",
      "Epoch 13/15\n",
      "191/191 [==============================] - 188s 985ms/step - loss: 0.0107 - binary_accuracy: 0.9935 - val_loss: 0.0059 - val_binary_accuracy: 0.9966\n",
      "Epoch 14/15\n",
      "191/191 [==============================] - 188s 986ms/step - loss: 0.0121 - binary_accuracy: 0.9941 - val_loss: 0.0065 - val_binary_accuracy: 0.9966\n",
      "Epoch 15/15\n",
      "191/191 [==============================] - 188s 984ms/step - loss: 0.0078 - binary_accuracy: 0.9949 - val_loss: 0.0061 - val_binary_accuracy: 0.9967\n"
     ]
    },
    {
     "data": {
      "text/plain": [
       "<tensorflow.python.keras.callbacks.History at 0x7f5f8a806e48>"
      ]
     },
     "execution_count": 24,
     "metadata": {},
     "output_type": "execute_result"
    }
   ],
   "source": [
    "model.train(num_epochs = 15, lr=3e-5, optimizer_name='adamw')"
   ]
  },
  {
   "cell_type": "code",
   "execution_count": null,
   "metadata": {
    "gradient": {}
   },
   "outputs": [],
   "source": [
    "#Creating test data for evaluation. manualy labelled around 100 test data.\n",
    "df_test = pd.read_csv('../data/test_labeled.csv', index_col='id')\n",
    "test_data = df_test.pop('text')\n",
    "target_data = df_test.pop('target')\n",
    "raw_dataset_test = tf.data.Dataset.from_tensor_slices((test_data, target_data))"
   ]
  },
  {
   "cell_type": "code",
   "execution_count": null,
   "metadata": {
    "gradient": {}
   },
   "outputs": [
    {
     "data": {
      "text/plain": [
       "tensorflow.python.data.ops.dataset_ops.TensorSliceDataset"
      ]
     },
     "execution_count": 10,
     "metadata": {},
     "output_type": "execute_result"
    }
   ],
   "source": [
    "type(raw_dataset_test)"
   ]
  },
  {
   "cell_type": "code",
   "execution_count": null,
   "metadata": {
    "gradient": {}
   },
   "outputs": [],
   "source": [
    "dataset_test = raw_dataset_test.shuffle(\n",
    "                len(raw_dataset_test)\n",
    "            ).batch(\n",
    "                batch_size=32\n",
    "            ).cache().prefetch(buffer_size=tf.data.AUTOTUNE)"
   ]
  },
  {
   "cell_type": "code",
   "execution_count": null,
   "metadata": {
    "gradient": {}
   },
   "outputs": [
    {
     "data": {
      "text/plain": [
       "tensorflow.python.data.ops.dataset_ops.PrefetchDataset"
      ]
     },
     "execution_count": 12,
     "metadata": {},
     "output_type": "execute_result"
    }
   ],
   "source": [
    "type(dataset_test)"
   ]
  },
  {
   "cell_type": "code",
   "execution_count": null,
   "metadata": {
    "gradient": {}
   },
   "outputs": [
    {
     "name": "stdout",
     "output_type": "stream",
     "text": [
      "4/4 [==============================] - 1s 187ms/step - loss: 1.2096 - binary_accuracy: 0.7938\n"
     ]
    }
   ],
   "source": [
    "loss, accuracy = model.model.evaluate(dataset_test)"
   ]
  },
  {
   "cell_type": "code",
   "execution_count": null,
   "metadata": {
    "gradient": {}
   },
   "outputs": [
    {
     "name": "stdout",
     "output_type": "stream",
     "text": [
      "Loss: 1.2096370458602905\n",
      "Accuracy: 0.7938144207000732\n"
     ]
    }
   ],
   "source": [
    "print(f'Loss: {loss}')\n",
    "print(f'Accuracy: {accuracy}')"
   ]
  },
  {
   "cell_type": "code",
   "execution_count": null,
   "metadata": {
    "gradient": {}
   },
   "outputs": [],
   "source": [
    "saved = tf.saved_model.load('../tweet/model/saved')"
   ]
  },
  {
   "cell_type": "code",
   "execution_count": null,
   "metadata": {
    "gradient": {}
   },
   "outputs": [],
   "source": [
    "inputs = [\n",
    "    \"Typhoon Soudelor kills 28 in China and Taiwan\",\n",
    "    \"No don't tell me that!\",\n",
    "    \"Apocalypse lighting. #Spokane #wildfires\",\n",
    "    \"They should all die! All of them! Everything annihilated!\",\n",
    "    \"Apocalypse no! Why artists should not go into the #Fukushima exclusion zone http://t.co/3zqL0qbLUw #nuclear #ura\",\n",
    "    \"I'm so happy now.\"\n",
    "]"
   ]
  },
  {
   "cell_type": "code",
   "execution_count": null,
   "metadata": {
    "gradient": {}
   },
   "outputs": [
    {
     "name": "stdout",
     "output_type": "stream",
     "text": [
      "WARNING:tensorflow:7 out of the last 9 calls to <function recreate_function.<locals>.restored_function_body at 0x7f5f5bb897b8> triggered tf.function retracing. Tracing is expensive and the excessive number of tracings could be due to (1) creating @tf.function repeatedly in a loop, (2) passing tensors with different shapes, (3) passing Python objects instead of tensors. For (1), please define your @tf.function outside of the loop. For (2), @tf.function has experimental_relax_shapes=True option that relaxes argument shapes that can avoid unnecessary retracing. For (3), please refer to https://www.tensorflow.org/guide/function#controlling_retracing and https://www.tensorflow.org/api_docs/python/tf/function for  more details.\n"
     ]
    },
    {
     "name": "stderr",
     "output_type": "stream",
     "text": [
      "WARNING:tensorflow:7 out of the last 9 calls to <function recreate_function.<locals>.restored_function_body at 0x7f5f5bb897b8> triggered tf.function retracing. Tracing is expensive and the excessive number of tracings could be due to (1) creating @tf.function repeatedly in a loop, (2) passing tensors with different shapes, (3) passing Python objects instead of tensors. For (1), please define your @tf.function outside of the loop. For (2), @tf.function has experimental_relax_shapes=True option that relaxes argument shapes that can avoid unnecessary retracing. For (3), please refer to https://www.tensorflow.org/guide/function#controlling_retracing and https://www.tensorflow.org/api_docs/python/tf/function for  more details.\n"
     ]
    },
    {
     "data": {
      "text/plain": [
       "[1, 0, 1, 0, 1, 0]"
      ]
     },
     "execution_count": 31,
     "metadata": {},
     "output_type": "execute_result"
    }
   ],
   "source": [
    "model.predict(inputs)"
   ]
  },
  {
   "cell_type": "code",
   "execution_count": null,
   "metadata": {
    "gradient": {}
   },
   "outputs": [],
   "source": [
    "model_name = 'base_uncased_eph15'\n",
    "save_path = './saved/' + model_name\n"
   ]
  },
  {
   "cell_type": "code",
   "execution_count": null,
   "metadata": {
    "gradient": {}
   },
   "outputs": [],
   "source": [
    "model.save(save_path)"
   ]
  },
  {
   "cell_type": "code",
   "execution_count": null,
   "metadata": {
    "gradient": {},
    "scrolled": true
   },
   "outputs": [
    {
     "name": "stdout",
     "output_type": "stream",
     "text": [
      "Loading pre-trained model from ./saved/base_uncased_eph15\n",
      "load successful\n"
     ]
    }
   ],
   "source": [
    "model.reload(save_path)"
   ]
  },
  {
   "cell_type": "code",
   "execution_count": null,
   "metadata": {
    "gradient": {}
   },
   "outputs": [
    {
     "data": {
      "text/plain": [
       "<tensorflow.python.keras.callbacks.History at 0x7f863ea106a0>"
      ]
     },
     "execution_count": 36,
     "metadata": {},
     "output_type": "execute_result"
    }
   ],
   "source": [
    "model.history"
   ]
  },
  {
   "cell_type": "code",
   "execution_count": null,
   "metadata": {
    "gradient": {}
   },
   "outputs": [
    {
     "data": {
      "text/plain": [
       "{'loss': [0.498797744512558,\n",
       "  0.3385844826698303,\n",
       "  0.23919177055358887,\n",
       "  0.176261305809021,\n",
       "  0.1362796425819397],\n",
       " 'binary_accuracy': [0.7535303831100464,\n",
       "  0.8614121675491333,\n",
       "  0.9090312123298645,\n",
       "  0.9362890124320984,\n",
       "  0.951724112033844],\n",
       " 'val_loss': [0.32231175899505615,\n",
       "  0.22064617276191711,\n",
       "  0.17856739461421967,\n",
       "  0.11209695041179657,\n",
       "  0.08685344457626343],\n",
       " 'val_binary_accuracy': [0.8651888370513916,\n",
       "  0.9149425029754639,\n",
       "  0.9443349838256836,\n",
       "  0.9582923054695129,\n",
       "  0.9678161144256592]}"
      ]
     },
     "execution_count": 40,
     "metadata": {},
     "output_type": "execute_result"
    }
   ],
   "source": [
    "model.history.history"
   ]
  },
  {
   "cell_type": "code",
   "execution_count": null,
   "metadata": {
    "gradient": {}
   },
   "outputs": [
    {
     "data": {
      "image/png": "[encoded data removed]",
      "text/plain": [
       "<Figure size 720x432 with 2 Axes>"
      ]
     },
     "metadata": {
      "needs_background": "light"
     },
     "output_type": "display_data"
    }
   ],
   "source": [
    "plot(model.history)"
   ]
  },
  {
   "cell_type": "code",
   "execution_count": null,
   "metadata": {
    "gradient": {}
   },
   "outputs": [],
   "source": [
    "#load of test csv data\n",
    "test_df = pd.read_csv('../data/test.csv', index_col='id')"
   ]
  },
  {
   "cell_type": "code",
   "execution_count": null,
   "metadata": {
    "gradient": {}
   },
   "outputs": [
    {
     "name": "stdout",
     "output_type": "stream",
     "text": [
      "loading id, text data...\n",
      "starting processing...\n",
      "processing 0-100 of 3263...\n",
      "predicting on the batch...\n",
      "prediction complete...\n",
      "processing 100-200 of 3263...\n",
      "predicting on the batch...\n",
      "prediction complete...\n",
      "processing 200-300 of 3263...\n",
      "predicting on the batch...\n",
      "prediction complete...\n",
      "processing 300-400 of 3263...\n",
      "predicting on the batch...\n",
      "prediction complete...\n",
      "processing 400-500 of 3263...\n",
      "predicting on the batch...\n",
      "prediction complete...\n",
      "processing 500-600 of 3263...\n",
      "predicting on the batch...\n",
      "prediction complete...\n",
      "processing 600-700 of 3263...\n",
      "predicting on the batch...\n",
      "prediction complete...\n",
      "processing 700-800 of 3263...\n",
      "predicting on the batch...\n",
      "prediction complete...\n",
      "processing 800-900 of 3263...\n",
      "predicting on the batch...\n",
      "prediction complete...\n",
      "processing 900-1000 of 3263...\n",
      "predicting on the batch...\n",
      "prediction complete...\n",
      "processing 1000-1100 of 3263...\n",
      "predicting on the batch...\n",
      "prediction complete...\n",
      "processing 1100-1200 of 3263...\n",
      "predicting on the batch...\n",
      "prediction complete...\n",
      "processing 1200-1300 of 3263...\n",
      "predicting on the batch...\n",
      "prediction complete...\n",
      "processing 1300-1400 of 3263...\n",
      "predicting on the batch...\n",
      "prediction complete...\n",
      "processing 1400-1500 of 3263...\n",
      "predicting on the batch...\n",
      "prediction complete...\n",
      "processing 1500-1600 of 3263...\n",
      "predicting on the batch...\n",
      "prediction complete...\n",
      "processing 1600-1700 of 3263...\n",
      "predicting on the batch...\n",
      "prediction complete...\n",
      "processing 1700-1800 of 3263...\n",
      "predicting on the batch...\n",
      "prediction complete...\n",
      "processing 1800-1900 of 3263...\n",
      "predicting on the batch...\n",
      "prediction complete...\n",
      "processing 1900-2000 of 3263...\n",
      "predicting on the batch...\n",
      "prediction complete...\n",
      "processing 2000-2100 of 3263...\n",
      "predicting on the batch...\n",
      "prediction complete...\n",
      "processing 2100-2200 of 3263...\n",
      "predicting on the batch...\n",
      "prediction complete...\n",
      "processing 2200-2300 of 3263...\n",
      "predicting on the batch...\n",
      "prediction complete...\n",
      "processing 2300-2400 of 3263...\n",
      "predicting on the batch...\n",
      "prediction complete...\n",
      "processing 2400-2500 of 3263...\n",
      "predicting on the batch...\n",
      "prediction complete...\n",
      "processing 2500-2600 of 3263...\n",
      "predicting on the batch...\n",
      "prediction complete...\n",
      "processing 2600-2700 of 3263...\n",
      "predicting on the batch...\n",
      "prediction complete...\n",
      "processing 2700-2800 of 3263...\n",
      "predicting on the batch...\n",
      "prediction complete...\n",
      "processing 2800-2900 of 3263...\n",
      "predicting on the batch...\n",
      "prediction complete...\n",
      "processing 2900-3000 of 3263...\n",
      "predicting on the batch...\n",
      "prediction complete...\n",
      "processing 3000-3100 of 3263...\n",
      "predicting on the batch...\n",
      "prediction complete...\n",
      "processing 3100-3200 of 3263...\n",
      "predicting on the batch...\n",
      "prediction complete...\n",
      "processing 3200-3300 of 3263...\n",
      "predicting on the batch...\n",
      "prediction complete...\n",
      "creating output file:./output/base_uncased_eph15.csv...\n",
      "file created.\n"
     ]
    }
   ],
   "source": [
    "#generate final prediction csv\n",
    "outputfile = './output/' + model_name + '.csv'\n",
    "generate_submission(model, test_df, outputfile)"
   ]
  },
  {
   "cell_type": "markdown",
   "metadata": {},
   "source": [
    "## result: score 0.81734(81.74%)"
   ]
  },
  {
   "cell_type": "markdown",
   "metadata": {},
   "source": [
    "## 2. [BERT trained on Wikipedia and BooksCorpus and fine-tuned on SST-2](https://tfhub.dev/google/experts/bert/wiki_books/sst2/2)\n",
    "\n",
    "- Bert-base architecture model fine-tuned for sentiment analysis"
   ]
  },
  {
   "cell_type": "code",
   "execution_count": null,
   "metadata": {
    "gradient": {}
   },
   "outputs": [],
   "source": [
    "model_name = 'experts_wiki_books_sst2'\n",
    "save_path = './saved/' + model_name"
   ]
  },
  {
   "cell_type": "code",
   "execution_count": null,
   "metadata": {
    "gradient": {}
   },
   "outputs": [
    {
     "name": "stdout",
     "output_type": "stream",
     "text": [
      "Building model. preprocessor=https://tfhub.dev/tensorflow/bert_en_uncased_preprocess/3, encoder=https://tfhub.dev/google/experts/bert/wiki_books/sst2/2\n",
      "Model build succeeded.\n"
     ]
    }
   ],
   "source": [
    "model.build_model(preprocess_handle=\"https://tfhub.dev/tensorflow/bert_en_uncased_preprocess/3\",\n",
    "                 encoder_handle=\"https://tfhub.dev/google/experts/bert/wiki_books/sst2/2\")"
   ]
  },
  {
   "cell_type": "code",
   "execution_count": null,
   "metadata": {
    "gradient": {}
   },
   "outputs": [
    {
     "name": "stdout",
     "output_type": "stream",
     "text": [
      "Epoch 1/9\n",
      "191/191 [==============================] - 202s 997ms/step - loss: 0.0509 - binary_accuracy: 0.9825 - val_loss: 0.0582 - val_binary_accuracy: 0.9847\n",
      "Epoch 2/9\n",
      "191/191 [==============================] - 188s 988ms/step - loss: 0.1109 - binary_accuracy: 0.9706 - val_loss: 0.0523 - val_binary_accuracy: 0.9867\n",
      "Epoch 3/9\n",
      "191/191 [==============================] - 189s 989ms/step - loss: 0.0864 - binary_accuracy: 0.9758 - val_loss: 0.0439 - val_binary_accuracy: 0.9869\n",
      "Epoch 4/9\n",
      "191/191 [==============================] - 189s 989ms/step - loss: 0.0750 - binary_accuracy: 0.9801 - val_loss: 0.0385 - val_binary_accuracy: 0.9878\n",
      "Epoch 5/9\n",
      "191/191 [==============================] - 189s 990ms/step - loss: 0.0700 - binary_accuracy: 0.9793 - val_loss: 0.0512 - val_binary_accuracy: 0.9847\n",
      "Epoch 6/9\n",
      "191/191 [==============================] - 189s 990ms/step - loss: 0.0488 - binary_accuracy: 0.9836 - val_loss: 0.0327 - val_binary_accuracy: 0.9888\n",
      "Epoch 7/9\n",
      "191/191 [==============================] - 189s 989ms/step - loss: 0.0497 - binary_accuracy: 0.9843 - val_loss: 0.0202 - val_binary_accuracy: 0.9911\n",
      "Epoch 8/9\n",
      "191/191 [==============================] - 189s 989ms/step - loss: 0.0407 - binary_accuracy: 0.9833 - val_loss: 0.0180 - val_binary_accuracy: 0.9918\n",
      "Epoch 9/9\n",
      "191/191 [==============================] - 189s 990ms/step - loss: 0.0390 - binary_accuracy: 0.9849 - val_loss: 0.0159 - val_binary_accuracy: 0.9928\n"
     ]
    },
    {
     "data": {
      "text/plain": [
       "<tensorflow.python.keras.callbacks.History at 0x7fab54091ac8>"
      ]
     },
     "execution_count": 9,
     "metadata": {},
     "output_type": "execute_result"
    }
   ],
   "source": [
    "model.train(num_epochs = 9, lr=3e-5, optimizer_name='adamw')"
   ]
  },
  {
   "cell_type": "code",
   "execution_count": null,
   "metadata": {
    "gradient": {}
   },
   "outputs": [
    {
     "data": {
      "image/png": "[encoded data removed]",
      "text/plain": [
       "<Figure size 720x432 with 2 Axes>"
      ]
     },
     "metadata": {
      "needs_background": "light"
     },
     "output_type": "display_data"
    }
   ],
   "source": [
    "plot(model.history)"
   ]
  },
  {
   "cell_type": "code",
   "execution_count": null,
   "metadata": {
    "gradient": {},
    "scrolled": true
   },
   "outputs": [
    {
     "name": "stderr",
     "output_type": "stream",
     "text": [
      "WARNING:absl:Found untraced functions such as restored_function_body, restored_function_body, restored_function_body, restored_function_body, restored_function_body while saving (showing 5 of 900). These functions will not be directly callable after loading.\n",
      "WARNING:absl:Found untraced functions such as restored_function_body, restored_function_body, restored_function_body, restored_function_body, restored_function_body while saving (showing 5 of 900). These functions will not be directly callable after loading.\n"
     ]
    },
    {
     "name": "stdout",
     "output_type": "stream",
     "text": [
      "INFO:tensorflow:Assets written to: ./saved/experts_wiki_books_sst2/assets\n"
     ]
    },
    {
     "name": "stderr",
     "output_type": "stream",
     "text": [
      "INFO:tensorflow:Assets written to: ./saved/experts_wiki_books_sst2/assets\n"
     ]
    }
   ],
   "source": [
    "model.save(save_path)"
   ]
  },
  {
   "cell_type": "code",
   "execution_count": null,
   "metadata": {
    "gradient": {}
   },
   "outputs": [],
   "source": [
    "#load of test csv data\n",
    "test_df = pd.read_csv('../data/test.csv', index_col='id')"
   ]
  },
  {
   "cell_type": "code",
   "execution_count": null,
   "metadata": {
    "gradient": {}
   },
   "outputs": [
    {
     "name": "stdout",
     "output_type": "stream",
     "text": [
      "loading id, text data...\n",
      "starting processing...\n",
      "processing 0-100 of 3263...\n",
      "predicting on the batch...\n",
      "prediction complete...\n",
      "processing 100-200 of 3263...\n",
      "predicting on the batch...\n",
      "prediction complete...\n",
      "processing 200-300 of 3263...\n",
      "predicting on the batch...\n",
      "prediction complete...\n",
      "processing 300-400 of 3263...\n",
      "predicting on the batch...\n",
      "prediction complete...\n",
      "processing 400-500 of 3263...\n",
      "predicting on the batch...\n",
      "prediction complete...\n",
      "processing 500-600 of 3263...\n",
      "predicting on the batch...\n",
      "prediction complete...\n",
      "processing 600-700 of 3263...\n",
      "predicting on the batch...\n",
      "prediction complete...\n",
      "processing 700-800 of 3263...\n",
      "predicting on the batch...\n",
      "prediction complete...\n",
      "processing 800-900 of 3263...\n",
      "predicting on the batch...\n",
      "prediction complete...\n",
      "processing 900-1000 of 3263...\n",
      "predicting on the batch...\n",
      "prediction complete...\n",
      "processing 1000-1100 of 3263...\n",
      "predicting on the batch...\n",
      "prediction complete...\n",
      "processing 1100-1200 of 3263...\n",
      "predicting on the batch...\n",
      "prediction complete...\n",
      "processing 1200-1300 of 3263...\n",
      "predicting on the batch...\n",
      "prediction complete...\n",
      "processing 1300-1400 of 3263...\n",
      "predicting on the batch...\n",
      "prediction complete...\n",
      "processing 1400-1500 of 3263...\n",
      "predicting on the batch...\n",
      "prediction complete...\n",
      "processing 1500-1600 of 3263...\n",
      "predicting on the batch...\n",
      "prediction complete...\n",
      "processing 1600-1700 of 3263...\n",
      "predicting on the batch...\n",
      "prediction complete...\n",
      "processing 1700-1800 of 3263...\n",
      "predicting on the batch...\n",
      "prediction complete...\n",
      "processing 1800-1900 of 3263...\n",
      "predicting on the batch...\n",
      "prediction complete...\n",
      "processing 1900-2000 of 3263...\n",
      "predicting on the batch...\n",
      "prediction complete...\n",
      "processing 2000-2100 of 3263...\n",
      "predicting on the batch...\n",
      "prediction complete...\n",
      "processing 2100-2200 of 3263...\n",
      "predicting on the batch...\n",
      "prediction complete...\n",
      "processing 2200-2300 of 3263...\n",
      "predicting on the batch...\n",
      "prediction complete...\n",
      "processing 2300-2400 of 3263...\n",
      "predicting on the batch...\n",
      "prediction complete...\n",
      "processing 2400-2500 of 3263...\n",
      "predicting on the batch...\n",
      "prediction complete...\n",
      "processing 2500-2600 of 3263...\n",
      "predicting on the batch...\n",
      "prediction complete...\n",
      "processing 2600-2700 of 3263...\n",
      "predicting on the batch...\n",
      "prediction complete...\n",
      "processing 2700-2800 of 3263...\n",
      "predicting on the batch...\n",
      "prediction complete...\n",
      "processing 2800-2900 of 3263...\n",
      "predicting on the batch...\n",
      "prediction complete...\n",
      "processing 2900-3000 of 3263...\n",
      "predicting on the batch...\n",
      "prediction complete...\n",
      "processing 3000-3100 of 3263...\n",
      "predicting on the batch...\n",
      "prediction complete...\n",
      "processing 3100-3200 of 3263...\n",
      "predicting on the batch...\n",
      "prediction complete...\n",
      "processing 3200-3300 of 3263...\n",
      "predicting on the batch...\n",
      "prediction complete...\n",
      "creating output file:./output/experts_wiki_books_sst2.csv...\n",
      "file created.\n"
     ]
    }
   ],
   "source": [
    "#generate final prediction csv\n",
    "outputfile = './output/' + model_name + '.csv'\n",
    "generate_submission(model, test_df, outputfile)"
   ]
  },
  {
   "cell_type": "markdown",
   "metadata": {},
   "source": [
    "## result: score 0.82071(82.07%)"
   ]
  },
  {
   "cell_type": "markdown",
   "metadata": {},
   "source": [
    "## 3. [BERT with Talking-Heads Attention and Gated GELU](https://tfhub.dev/tensorflow/talkheads_ggelu_bert_en_base/2)\n",
    "- has two improvements to the core of the Transformer architecture"
   ]
  },
  {
   "cell_type": "code",
   "execution_count": null,
   "metadata": {
    "gradient": {}
   },
   "outputs": [],
   "source": [
    "model_name = 'talkheads_ggelu_base'\n",
    "save_path = './saved/' + model_name"
   ]
  },
  {
   "cell_type": "code",
   "execution_count": null,
   "metadata": {
    "gradient": {}
   },
   "outputs": [
    {
     "name": "stdout",
     "output_type": "stream",
     "text": [
      "Building model. preprocessor=https://tfhub.dev/tensorflow/bert_en_uncased_preprocess/3, encoder=https://tfhub.dev/tensorflow/talkheads_ggelu_bert_en_base/2\n",
      "WARNING:tensorflow:5 out of the last 67 calls to <function recreate_function.<locals>.restored_function_body at 0x7fab32d226a8> triggered tf.function retracing. Tracing is expensive and the excessive number of tracings could be due to (1) creating @tf.function repeatedly in a loop, (2) passing tensors with different shapes, (3) passing Python objects instead of tensors. For (1), please define your @tf.function outside of the loop. For (2), @tf.function has experimental_relax_shapes=True option that relaxes argument shapes that can avoid unnecessary retracing. For (3), please refer to https://www.tensorflow.org/guide/function#controlling_retracing and https://www.tensorflow.org/api_docs/python/tf/function for  more details.\n"
     ]
    },
    {
     "name": "stderr",
     "output_type": "stream",
     "text": [
      "WARNING:tensorflow:5 out of the last 67 calls to <function recreate_function.<locals>.restored_function_body at 0x7fab32d226a8> triggered tf.function retracing. Tracing is expensive and the excessive number of tracings could be due to (1) creating @tf.function repeatedly in a loop, (2) passing tensors with different shapes, (3) passing Python objects instead of tensors. For (1), please define your @tf.function outside of the loop. For (2), @tf.function has experimental_relax_shapes=True option that relaxes argument shapes that can avoid unnecessary retracing. For (3), please refer to https://www.tensorflow.org/guide/function#controlling_retracing and https://www.tensorflow.org/api_docs/python/tf/function for  more details.\n"
     ]
    },
    {
     "name": "stdout",
     "output_type": "stream",
     "text": [
      "Model build succeeded.\n"
     ]
    }
   ],
   "source": [
    "model.build_model(preprocess_handle=\"https://tfhub.dev/tensorflow/bert_en_uncased_preprocess/3\",\n",
    "                 encoder_handle=\"https://tfhub.dev/tensorflow/talkheads_ggelu_bert_en_base/2\")"
   ]
  },
  {
   "cell_type": "code",
   "execution_count": null,
   "metadata": {
    "gradient": {}
   },
   "outputs": [
    {
     "name": "stdout",
     "output_type": "stream",
     "text": [
      "Epoch 1/15\n",
      "191/191 [==============================] - 270s 1s/step - loss: 0.6541 - binary_accuracy: 0.5979 - val_loss: 0.3498 - val_binary_accuracy: 0.8496\n",
      "Epoch 2/15\n",
      "191/191 [==============================] - 247s 1s/step - loss: 0.4063 - binary_accuracy: 0.8255 - val_loss: 0.2270 - val_binary_accuracy: 0.9182\n",
      "Epoch 3/15\n",
      "191/191 [==============================] - 247s 1s/step - loss: 0.3050 - binary_accuracy: 0.8867 - val_loss: 0.1489 - val_binary_accuracy: 0.9484\n",
      "Epoch 4/15\n",
      "191/191 [==============================] - 247s 1s/step - loss: 0.2232 - binary_accuracy: 0.9305 - val_loss: 0.0899 - val_binary_accuracy: 0.9700\n",
      "Epoch 5/15\n",
      "191/191 [==============================] - 247s 1s/step - loss: 0.1452 - binary_accuracy: 0.9533 - val_loss: 0.0609 - val_binary_accuracy: 0.9813\n",
      "Epoch 6/15\n",
      "191/191 [==============================] - 247s 1s/step - loss: 0.1071 - binary_accuracy: 0.9660 - val_loss: 0.0571 - val_binary_accuracy: 0.9854\n",
      "Epoch 7/15\n",
      "191/191 [==============================] - 247s 1s/step - loss: 0.0934 - binary_accuracy: 0.9719 - val_loss: 0.0397 - val_binary_accuracy: 0.9872\n",
      "Epoch 8/15\n",
      "191/191 [==============================] - 247s 1s/step - loss: 0.0709 - binary_accuracy: 0.9806 - val_loss: 0.0282 - val_binary_accuracy: 0.9898\n",
      "Epoch 9/15\n",
      "191/191 [==============================] - 247s 1s/step - loss: 0.0580 - binary_accuracy: 0.9817 - val_loss: 0.0211 - val_binary_accuracy: 0.9920\n",
      "Epoch 10/15\n",
      "191/191 [==============================] - 247s 1s/step - loss: 0.0420 - binary_accuracy: 0.9832 - val_loss: 0.0162 - val_binary_accuracy: 0.9938\n",
      "Epoch 11/15\n",
      "191/191 [==============================] - 247s 1s/step - loss: 0.0336 - binary_accuracy: 0.9866 - val_loss: 0.0112 - val_binary_accuracy: 0.9949\n",
      "Epoch 12/15\n",
      "191/191 [==============================] - 248s 1s/step - loss: 0.0228 - binary_accuracy: 0.9901 - val_loss: 0.0101 - val_binary_accuracy: 0.9957\n",
      "Epoch 13/15\n",
      "191/191 [==============================] - 248s 1s/step - loss: 0.0208 - binary_accuracy: 0.9939 - val_loss: 0.0079 - val_binary_accuracy: 0.9964\n",
      "Epoch 14/15\n",
      "191/191 [==============================] - 247s 1s/step - loss: 0.0156 - binary_accuracy: 0.9937 - val_loss: 0.0069 - val_binary_accuracy: 0.9966\n",
      "Epoch 15/15\n",
      "191/191 [==============================] - 247s 1s/step - loss: 0.0110 - binary_accuracy: 0.9941 - val_loss: 0.0066 - val_binary_accuracy: 0.9969\n"
     ]
    },
    {
     "data": {
      "text/plain": [
       "<tensorflow.python.keras.callbacks.History at 0x7fab26120048>"
      ]
     },
     "execution_count": 22,
     "metadata": {},
     "output_type": "execute_result"
    }
   ],
   "source": [
    "model.train(num_epochs = 15, lr=3e-5, optimizer_name='adamw')"
   ]
  },
  {
   "cell_type": "code",
   "execution_count": null,
   "metadata": {
    "gradient": {}
   },
   "outputs": [
    {
     "data": {
      "image/png": "[encoded data removed]",
      "text/plain": [
       "<Figure size 720x432 with 2 Axes>"
      ]
     },
     "metadata": {
      "needs_background": "light"
     },
     "output_type": "display_data"
    }
   ],
   "source": [
    "plot(model.history)"
   ]
  },
  {
   "cell_type": "code",
   "execution_count": null,
   "metadata": {
    "gradient": {}
   },
   "outputs": [
    {
     "data": {
      "text/plain": [
       "'./saved/talkheads_ggelu_base'"
      ]
     },
     "execution_count": 24,
     "metadata": {},
     "output_type": "execute_result"
    }
   ],
   "source": [
    "save_path"
   ]
  },
  {
   "cell_type": "code",
   "execution_count": null,
   "metadata": {
    "gradient": {}
   },
   "outputs": [
    {
     "name": "stderr",
     "output_type": "stream",
     "text": [
      "WARNING:absl:Found untraced functions such as restored_function_body, restored_function_body, restored_function_body, restored_function_body, restored_function_body while saving (showing 5 of 975). These functions will not be directly callable after loading.\n",
      "WARNING:absl:Found untraced functions such as restored_function_body, restored_function_body, restored_function_body, restored_function_body, restored_function_body while saving (showing 5 of 975). These functions will not be directly callable after loading.\n"
     ]
    },
    {
     "name": "stdout",
     "output_type": "stream",
     "text": [
      "INFO:tensorflow:Assets written to: ./saved/talkheads_ggelu_base/assets\n"
     ]
    },
    {
     "name": "stderr",
     "output_type": "stream",
     "text": [
      "INFO:tensorflow:Assets written to: ./saved/talkheads_ggelu_base/assets\n"
     ]
    }
   ],
   "source": [
    "model.save(save_path)"
   ]
  },
  {
   "cell_type": "code",
   "execution_count": null,
   "metadata": {
    "gradient": {}
   },
   "outputs": [],
   "source": [
    "#load of test csv data\n",
    "test_df = pd.read_csv('../data/test.csv', index_col='id')"
   ]
  },
  {
   "cell_type": "code",
   "execution_count": null,
   "metadata": {
    "gradient": {}
   },
   "outputs": [
    {
     "data": {
      "text/plain": [
       "'talkheads_ggelu_base'"
      ]
     },
     "execution_count": 28,
     "metadata": {},
     "output_type": "execute_result"
    }
   ],
   "source": [
    "model_name"
   ]
  },
  {
   "cell_type": "code",
   "execution_count": null,
   "metadata": {
    "gradient": {}
   },
   "outputs": [
    {
     "name": "stdout",
     "output_type": "stream",
     "text": [
      "loading id, text data...\n",
      "starting processing...\n",
      "processing 0-100 of 3263...\n",
      "predicting on the batch...\n",
      "WARNING:tensorflow:6 out of the last 68 calls to <function recreate_function.<locals>.restored_function_body at 0x7fab32d22488> triggered tf.function retracing. Tracing is expensive and the excessive number of tracings could be due to (1) creating @tf.function repeatedly in a loop, (2) passing tensors with different shapes, (3) passing Python objects instead of tensors. For (1), please define your @tf.function outside of the loop. For (2), @tf.function has experimental_relax_shapes=True option that relaxes argument shapes that can avoid unnecessary retracing. For (3), please refer to https://www.tensorflow.org/guide/function#controlling_retracing and https://www.tensorflow.org/api_docs/python/tf/function for  more details.\n"
     ]
    },
    {
     "name": "stderr",
     "output_type": "stream",
     "text": [
      "WARNING:tensorflow:6 out of the last 68 calls to <function recreate_function.<locals>.restored_function_body at 0x7fab32d22488> triggered tf.function retracing. Tracing is expensive and the excessive number of tracings could be due to (1) creating @tf.function repeatedly in a loop, (2) passing tensors with different shapes, (3) passing Python objects instead of tensors. For (1), please define your @tf.function outside of the loop. For (2), @tf.function has experimental_relax_shapes=True option that relaxes argument shapes that can avoid unnecessary retracing. For (3), please refer to https://www.tensorflow.org/guide/function#controlling_retracing and https://www.tensorflow.org/api_docs/python/tf/function for  more details.\n"
     ]
    },
    {
     "name": "stdout",
     "output_type": "stream",
     "text": [
      "WARNING:tensorflow:7 out of the last 69 calls to <function recreate_function.<locals>.restored_function_body at 0x7fab26abfae8> triggered tf.function retracing. Tracing is expensive and the excessive number of tracings could be due to (1) creating @tf.function repeatedly in a loop, (2) passing tensors with different shapes, (3) passing Python objects instead of tensors. For (1), please define your @tf.function outside of the loop. For (2), @tf.function has experimental_relax_shapes=True option that relaxes argument shapes that can avoid unnecessary retracing. For (3), please refer to https://www.tensorflow.org/guide/function#controlling_retracing and https://www.tensorflow.org/api_docs/python/tf/function for  more details.\n"
     ]
    },
    {
     "name": "stderr",
     "output_type": "stream",
     "text": [
      "WARNING:tensorflow:7 out of the last 69 calls to <function recreate_function.<locals>.restored_function_body at 0x7fab26abfae8> triggered tf.function retracing. Tracing is expensive and the excessive number of tracings could be due to (1) creating @tf.function repeatedly in a loop, (2) passing tensors with different shapes, (3) passing Python objects instead of tensors. For (1), please define your @tf.function outside of the loop. For (2), @tf.function has experimental_relax_shapes=True option that relaxes argument shapes that can avoid unnecessary retracing. For (3), please refer to https://www.tensorflow.org/guide/function#controlling_retracing and https://www.tensorflow.org/api_docs/python/tf/function for  more details.\n"
     ]
    },
    {
     "name": "stdout",
     "output_type": "stream",
     "text": [
      "prediction complete...\n",
      "processing 100-200 of 3263...\n",
      "predicting on the batch...\n",
      "prediction complete...\n",
      "processing 200-300 of 3263...\n",
      "predicting on the batch...\n",
      "prediction complete...\n",
      "processing 300-400 of 3263...\n",
      "predicting on the batch...\n",
      "prediction complete...\n",
      "processing 400-500 of 3263...\n",
      "predicting on the batch...\n",
      "prediction complete...\n",
      "processing 500-600 of 3263...\n",
      "predicting on the batch...\n",
      "prediction complete...\n",
      "processing 600-700 of 3263...\n",
      "predicting on the batch...\n",
      "prediction complete...\n",
      "processing 700-800 of 3263...\n",
      "predicting on the batch...\n",
      "prediction complete...\n",
      "processing 800-900 of 3263...\n",
      "predicting on the batch...\n",
      "prediction complete...\n",
      "processing 900-1000 of 3263...\n",
      "predicting on the batch...\n",
      "prediction complete...\n",
      "processing 1000-1100 of 3263...\n",
      "predicting on the batch...\n",
      "prediction complete...\n",
      "processing 1100-1200 of 3263...\n",
      "predicting on the batch...\n",
      "prediction complete...\n",
      "processing 1200-1300 of 3263...\n",
      "predicting on the batch...\n",
      "prediction complete...\n",
      "processing 1300-1400 of 3263...\n",
      "predicting on the batch...\n",
      "prediction complete...\n",
      "processing 1400-1500 of 3263...\n",
      "predicting on the batch...\n",
      "prediction complete...\n",
      "processing 1500-1600 of 3263...\n",
      "predicting on the batch...\n",
      "prediction complete...\n",
      "processing 1600-1700 of 3263...\n",
      "predicting on the batch...\n",
      "prediction complete...\n",
      "processing 1700-1800 of 3263...\n",
      "predicting on the batch...\n",
      "prediction complete...\n",
      "processing 1800-1900 of 3263...\n",
      "predicting on the batch...\n",
      "prediction complete...\n",
      "processing 1900-2000 of 3263...\n",
      "predicting on the batch...\n",
      "prediction complete...\n",
      "processing 2000-2100 of 3263...\n",
      "predicting on the batch...\n",
      "prediction complete...\n",
      "processing 2100-2200 of 3263...\n",
      "predicting on the batch...\n",
      "prediction complete...\n",
      "processing 2200-2300 of 3263...\n",
      "predicting on the batch...\n",
      "prediction complete...\n",
      "processing 2300-2400 of 3263...\n",
      "predicting on the batch...\n",
      "prediction complete...\n",
      "processing 2400-2500 of 3263...\n",
      "predicting on the batch...\n",
      "prediction complete...\n",
      "processing 2500-2600 of 3263...\n",
      "predicting on the batch...\n",
      "prediction complete...\n",
      "processing 2600-2700 of 3263...\n",
      "predicting on the batch...\n",
      "prediction complete...\n",
      "processing 2700-2800 of 3263...\n",
      "predicting on the batch...\n",
      "prediction complete...\n",
      "processing 2800-2900 of 3263...\n",
      "predicting on the batch...\n",
      "prediction complete...\n",
      "processing 2900-3000 of 3263...\n",
      "predicting on the batch...\n",
      "prediction complete...\n",
      "processing 3000-3100 of 3263...\n",
      "predicting on the batch...\n",
      "prediction complete...\n",
      "processing 3100-3200 of 3263...\n",
      "predicting on the batch...\n",
      "prediction complete...\n",
      "processing 3200-3300 of 3263...\n",
      "predicting on the batch...\n",
      "prediction complete...\n",
      "creating output file:./output/talkheads_ggelu_base.csv...\n",
      "file created.\n"
     ]
    }
   ],
   "source": [
    "#generate final prediction csv\n",
    "outputfile = './output/' + model_name + '.csv'\n",
    "generate_submission(model, test_df, outputfile)"
   ]
  },
  {
   "cell_type": "markdown",
   "metadata": {},
   "source": [
    "## result: score 0.81857(81.86%)"
   ]
  },
  {
   "cell_type": "markdown",
   "metadata": {},
   "source": [
    "## Conclusion: 2nd and 3rd model are more complex than the original BERT base, and takes longer to train, but performs slightly better on Kaggle submission. since the model has to always be fully trained and deployed, accuracy/performance matters more than the training time. will be deploying saved 2nd model."
   ]
  },
  {
   "cell_type": "code",
   "execution_count": null,
   "metadata": {
    "gradient": {}
   },
   "outputs": [],
   "source": []
  }
 ],
 "metadata": {
  "kernelspec": {
   "display_name": "Python 3",
   "language": "python",
   "name": "python3"
  },
  "language_info": {
   "codemirror_mode": {
    "name": "ipython",
    "version": 3
   },
   "file_extension": ".py",
   "mimetype": "text/x-python",
   "name": "python",
   "nbconvert_exporter": "python",
   "pygments_lexer": "ipython3",
   "version": "3.6.9"
  }
 },
 "nbformat": 4,
 "nbformat_minor": 2
}
